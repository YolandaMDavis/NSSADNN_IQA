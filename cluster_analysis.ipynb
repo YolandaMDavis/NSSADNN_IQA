{
  "nbformat": 4,
  "nbformat_minor": 0,
  "metadata": {
    "colab": {
      "provenance": [],
      "collapsed_sections": [],
      "authorship_tag": "ABX9TyO3hna//pCaxL2Jym1M7BPj",
      "include_colab_link": true
    },
    "kernelspec": {
      "name": "python3",
      "display_name": "Python 3"
    },
    "language_info": {
      "name": "python"
    }
  },
  "cells": [
    {
      "cell_type": "markdown",
      "metadata": {
        "id": "view-in-github",
        "colab_type": "text"
      },
      "source": [
        "<a href=\"https://colab.research.google.com/github/YolandaMDavis/NSSADNN_IQA/blob/wildtrack-iqa/cluster_analysis.ipynb\" target=\"_parent\"><img src=\"https://colab.research.google.com/assets/colab-badge.svg\" alt=\"Open In Colab\"/></a>"
      ]
    },
    {
      "cell_type": "code",
      "execution_count": 1,
      "metadata": {
        "colab": {
          "base_uri": "https://localhost:8080/",
          "height": 52
        },
        "id": "dBtDiPhCRbLg",
        "outputId": "6faea730-a5d8-40b5-9fcc-e0679b3e5135"
      },
      "outputs": [
        {
          "output_type": "stream",
          "name": "stdout",
          "text": [
            "Mounted at /content/drive\n"
          ]
        },
        {
          "output_type": "execute_result",
          "data": {
            "text/plain": [
              "'WildTrack_Raw.zip'"
            ],
            "application/vnd.google.colaboratory.intrinsic+json": {
              "type": "string"
            }
          },
          "metadata": {},
          "execution_count": 1
        }
      ],
      "source": [
        "#Only needed to copy data to local drive can be skipped if zip file is already available in working folder\n",
        "import shutil\n",
        "\n",
        "# mount google drive\n",
        "from google.colab import drive\n",
        "drive.mount('/content/drive') # for google colab. adjust accordingly\n",
        "PARENT_DIR = '/content/drive/MyDrive/Wildtrack Group/IQA' \n",
        "\n",
        "# copy and extract tar file\n",
        "shutil.copy(PARENT_DIR + '/data/WildTrack_Raw.zip', 'WildTrack_Raw.zip')"
      ]
    },
    {
      "cell_type": "code",
      "source": [
        "import math\n",
        "import scipy.special\n",
        "import numpy as np\n",
        "import cv2\n",
        "import scipy as sp\n",
        "\n",
        "gamma_range = np.arange(0.2, 10, 0.001)\n",
        "a = scipy.special.gamma(2.0/gamma_range)\n",
        "a *= a\n",
        "b = scipy.special.gamma(1.0/gamma_range)\n",
        "c = scipy.special.gamma(3.0/gamma_range)\n",
        "prec_gammas = a/(b*c)\n",
        "\n",
        "\n",
        "def aggd_features(imdata):\n",
        "    # flatten imdata\n",
        "    imdata.shape = (len(imdata.flat),)\n",
        "    imdata2 = imdata*imdata\n",
        "    left_data = imdata2[imdata < 0]\n",
        "    right_data = imdata2[imdata >= 0]\n",
        "    left_mean_sqrt = 0\n",
        "    right_mean_sqrt = 0\n",
        "    if len(left_data) > 0:\n",
        "        left_mean_sqrt = np.sqrt(np.average(left_data))\n",
        "    if len(right_data) > 0:\n",
        "        right_mean_sqrt = np.sqrt(np.average(right_data))\n",
        "\n",
        "    if right_mean_sqrt != 0:\n",
        "        gamma_hat = left_mean_sqrt/right_mean_sqrt\n",
        "    else:\n",
        "        gamma_hat = np.inf\n",
        "    # solve r-hat norm\n",
        "\n",
        "    imdata2_mean = np.mean(imdata2)\n",
        "    if imdata2_mean != 0:\n",
        "        r_hat = (np.average(np.abs(imdata))**2) / (np.average(imdata2))\n",
        "    else:\n",
        "        r_hat = np.inf\n",
        "    rhat_norm = r_hat * (((math.pow(gamma_hat, 3) + 1) *\n",
        "                          (gamma_hat + 1)) / math.pow(math.pow(gamma_hat, 2) + 1, 2))\n",
        "\n",
        "    # solve alpha by guessing values that minimize ro\n",
        "    pos = np.argmin((prec_gammas - rhat_norm)**2)\n",
        "    alpha = gamma_range[pos]\n",
        "\n",
        "    gam1 = scipy.special.gamma(1.0/alpha)\n",
        "    gam2 = scipy.special.gamma(2.0/alpha)\n",
        "    gam3 = scipy.special.gamma(3.0/alpha)\n",
        "\n",
        "    aggdratio = np.sqrt(gam1) / np.sqrt(gam3)\n",
        "    bl = aggdratio * left_mean_sqrt\n",
        "    br = aggdratio * right_mean_sqrt\n",
        "\n",
        "    # mean parameter\n",
        "    N = (br - bl)*(gam2 / gam1)  # *aggdratio\n",
        "    return (alpha, N, bl, br, left_mean_sqrt, right_mean_sqrt)\n",
        "\n",
        "\n",
        "def ggd_features(imdata):\n",
        "    nr_gam = 1/prec_gammas\n",
        "    sigma_sq = np.var(imdata)\n",
        "    E = np.mean(np.abs(imdata))\n",
        "    rho = sigma_sq/E**2\n",
        "    pos = np.argmin(np.abs(nr_gam - rho))\n",
        "    return gamma_range[pos], sigma_sq\n",
        "\n",
        "\n",
        "def paired_product(new_im):\n",
        "    shift1 = np.roll(new_im.copy(), 1, axis=1)\n",
        "    shift2 = np.roll(new_im.copy(), 1, axis=0)\n",
        "    shift3 = np.roll(np.roll(new_im.copy(), 1, axis=0), 1, axis=1)\n",
        "    shift4 = np.roll(np.roll(new_im.copy(), 1, axis=0), -1, axis=1)\n",
        "\n",
        "    H_img = shift1 * new_im\n",
        "    V_img = shift2 * new_im\n",
        "    D1_img = shift3 * new_im\n",
        "    D2_img = shift4 * new_im\n",
        "\n",
        "    return (H_img, V_img, D1_img, D2_img)\n",
        "\n",
        "\n",
        "def calculate_mscn(dis_image):\n",
        "    dis_image = dis_image.astype(np.float32)  # 类型转换十分重要\n",
        "    ux = cv2.GaussianBlur(dis_image, (7, 7), 7/6)\n",
        "    ux_sq = ux*ux\n",
        "    sigma = np.sqrt(np.abs(cv2.GaussianBlur(dis_image**2, (7, 7), 7/6)-ux_sq))\n",
        "\n",
        "    mscn = (dis_image-ux)/(1+sigma)\n",
        "\n",
        "    return mscn\n",
        "\n",
        "\n",
        "def ggd_features(imdata):\n",
        "    nr_gam = 1/prec_gammas\n",
        "    sigma_sq = np.var(imdata)\n",
        "    E = np.mean(np.abs(imdata))\n",
        "    rho = sigma_sq/E**2\n",
        "    pos = np.argmin(np.abs(nr_gam - rho))\n",
        "    return gamma_range[pos], sigma_sq\n",
        "\n",
        "\n",
        "def extract_brisque_feats(mscncoefs):\n",
        "    alpha_m, sigma_sq = ggd_features(mscncoefs.copy())\n",
        "    pps1, pps2, pps3, pps4 = paired_product(mscncoefs)\n",
        "    alpha1, N1, bl1, br1, lsq1, rsq1 = aggd_features(pps1)\n",
        "    alpha2, N2, bl2, br2, lsq2, rsq2 = aggd_features(pps2)\n",
        "    alpha3, N3, bl3, br3, lsq3, rsq3 = aggd_features(pps3)\n",
        "    alpha4, N4, bl4, br4, lsq4, rsq4 = aggd_features(pps4)\n",
        "    # print(alpha_m, alpha1)\n",
        "    return [\n",
        "        alpha_m, sigma_sq,\n",
        "        alpha1, N1, lsq1**2, rsq1**2,  # (V)\n",
        "        alpha2, N2, lsq2**2, rsq2**2,  # (H)\n",
        "        alpha3, N3, lsq3**2, rsq3**2,  # (D1)\n",
        "        alpha4, N4, lsq4**2, rsq4**2,  # (D2)\n",
        "    ]\n",
        "\n",
        "\n",
        "def brisque(im):\n",
        "    mscncoefs = calculate_mscn(im)\n",
        "    features1 = extract_brisque_feats(mscncoefs)\n",
        "    lowResolution = cv2.resize(im, (0, 0), fx=0.5, fy=0.5)\n",
        "    features2 = extract_brisque_feats(lowResolution)\n",
        "    # print('features1', features1)\n",
        "    # print('features2', features2)\n",
        "    return np.array(features1+features2)\n",
        "\n",
        "\n",
        "\n",
        "\n",
        "\n"
      ],
      "metadata": {
        "id": "YtJsn3tfJNQx"
      },
      "execution_count": 2,
      "outputs": []
    },
    {
      "cell_type": "code",
      "source": [
        "import cv2\n",
        "import numpy as np\n",
        "from zipfile import ZipFile\n",
        "\n",
        "\n",
        "def get_footprints(species):\n",
        "  footprint = {}\n",
        "\n",
        "  with ZipFile('WildTrack_Raw.zip', 'r') as zipObj:\n",
        "    for filename in zipObj.namelist():\n",
        "      if not filename.endswith(\".jpg\") or not any(x in filename for x in species):\n",
        "        continue # skip image\n",
        "      with zipObj.open(filename) as image:\n",
        "          # If we extracted files from zip, we can use cv2.imread(filename) instead\n",
        "          print(\"Filename: {}\".format(filename))\n",
        "          img = cv2.imdecode(np.frombuffer(image.read(), np.uint8), cv2.IMREAD_COLOR)\n",
        "          footprint[filename] = cv2.resize(img, (256, 256))\n",
        "  return footprint\n",
        "\n",
        "species = ['Elephant']\n",
        "footprint = get_footprints(species)\n"
      ],
      "metadata": {
        "colab": {
          "base_uri": "https://localhost:8080/"
        },
        "id": "WaerfLWHRiRA",
        "outputId": "5392c7b6-9932-4ccc-e5c3-41fc84d13d25"
      },
      "execution_count": 9,
      "outputs": [
        {
          "output_type": "stream",
          "name": "stdout",
          "text": [
            "Filename: RAW/Elephant_African_4/0a8a3624d3dd11ea91590242ac1c0002.jpg\n",
            "Filename: RAW/Elephant_African_4/18484ea4d3dd11ea91590242ac1c0002.jpg\n",
            "Filename: RAW/Elephant_African_4/151ee9d6d3dd11ea91590242ac1c0002.jpg\n",
            "Filename: RAW/Elephant_African_4/177cc752d3dd11ea91590242ac1c0002.jpg\n",
            "Filename: RAW/Elephant_African_4/0c36e300d3dd11ea91590242ac1c0002.jpg\n",
            "Filename: RAW/Elephant_African_4/11b3d6eed3dd11ea91590242ac1c0002.jpg\n",
            "Filename: RAW/Elephant_African_4/12a18ecad3dd11ea91590242ac1c0002.jpg\n",
            "Filename: RAW/Elephant_African_4/149edd36d3dd11ea91590242ac1c0002.jpg\n",
            "Filename: RAW/Elephant_African_4/0e42463ad3dd11ea91590242ac1c0002.jpg\n",
            "Filename: RAW/Elephant_African_4/16f5f4a2d3dd11ea91590242ac1c0002.jpg\n",
            "Filename: RAW/Elephant_African_4/1232f690d3dd11ea91590242ac1c0002.jpg\n",
            "Filename: RAW/Elephant_African_4/159e4500d3dd11ea91590242ac1c0002.jpg\n",
            "Filename: RAW/Elephant_African_4/1670c9d0d3dd11ea91590242ac1c0002.jpg\n",
            "Filename: RAW/Elephant_African_4/de69acf0c0f911ea82a50242ac1c0002.jpg\n",
            "Filename: RAW/Elephant_African_4/16292abcd3dd11ea91590242ac1c0002.jpg\n",
            "Filename: RAW/Elephant_African_4/13b03834d3dd11ea91590242ac1c0002.jpg\n",
            "Filename: RAW/Elephant_African_4/0d3eceacd3dd11ea91590242ac1c0002.jpg\n",
            "Filename: RAW/Elephant_African_4/1134fe0ad3dd11ea91590242ac1c0002.jpg\n",
            "Filename: RAW/Elephant_African_4/0b01a0c4d3dd11ea91590242ac1c0002.jpg\n",
            "Filename: RAW/Elephant_African_4/13270c80d3dd11ea91590242ac1c0002.jpg\n",
            "Filename: RAW/Elephant_African_4/0ec9c380d3dd11ea91590242ac1c0002.jpg\n",
            "Filename: RAW/Elephant_African_4/0cba4fc4d3dd11ea91590242ac1c0002.jpg\n",
            "Filename: RAW/Elephant_African_3/0f2ec424d3dd11ea91590242ac1c0002.jpg\n",
            "Filename: RAW/Elephant_African_3/08fa348ad3dd11ea91590242ac1c0002.jpg\n",
            "Filename: RAW/Elephant_African_3/18ce9d42d3dd11ea91590242ac1c0002.jpg\n",
            "Filename: RAW/Elephant_African_3/0f9a2a7ad3dd11ea91590242ac1c0002.jpg\n",
            "Filename: RAW/Elephant_African_3/17d1b802d3dd11ea91590242ac1c0002.jpg\n",
            "Filename: RAW/Elephant_African_5/250a3b2ac0fa11ea82a50242ac1c0002.jpg\n",
            "Filename: RAW/Elephant_African_5/c9a1e878c0f911ea82a50242ac1c0002.jpg\n",
            "Filename: RAW/Elephant_African_5/b8d735fcc0f911ea82a50242ac1c0002.jpg\n",
            "Filename: RAW/Elephant_African_5/e4e29a7ec0f911ea82a50242ac1c0002.jpg\n",
            "Filename: RAW/Elephant_African_5/32612306c0fa11ea82a50242ac1c0002.jpg\n",
            "Filename: RAW/Elephant_African_5/2943e1b4c0fa11ea82a50242ac1c0002.jpg\n",
            "Filename: RAW/Elephant_African_5/30501b94c0fa11ea82a50242ac1c0002.jpg\n",
            "Filename: RAW/Elephant_African_5/cfdcc17cc0f911ea82a50242ac1c0002.jpg\n",
            "Filename: RAW/Elephant_African_5/16849686c0fa11ea82a50242ac1c0002.jpg\n",
            "Filename: RAW/Elephant_African_5/f88f85d2c0f911ea82a50242ac1c0002.jpg\n",
            "Filename: RAW/Elephant_African_5/faa2104cc0f911ea82a50242ac1c0002.jpg\n",
            "Filename: RAW/Elephant_African_5/1eccc37cc0fa11ea82a50242ac1c0002.jpg\n",
            "Filename: RAW/Elephant_African_5/143b601cd3dd11ea91590242ac1c0002.jpg\n",
            "Filename: RAW/Elephant_African_5/e2be6d0ec0f911ea82a50242ac1c0002.jpg\n",
            "Filename: RAW/Elephant_African_5/2c28b530c0fa11ea82a50242ac1c0002.jpg\n",
            "Filename: RAW/Elephant_African_5/c77fa4b8c0f911ea82a50242ac1c0002.jpg\n",
            "Filename: RAW/Elephant_African_5/34758a56c0fa11ea82a50242ac1c0002.jpg\n",
            "Filename: RAW/Elephant_African_5/b29d70c0c0f911ea82a50242ac1c0002.jpg\n",
            "Filename: RAW/Elephant_African_5/e7c9299cc0f911ea82a50242ac1c0002.jpg\n",
            "Filename: RAW/Elephant_African_5/0512c2cec0fa11ea82a50242ac1c0002.jpg\n",
            "Filename: RAW/Elephant_African_5/0f75b4e2c0fa11ea82a50242ac1c0002.jpg\n",
            "Filename: RAW/Elephant_African_5/18968a10c0fa11ea82a50242ac1c0002.jpg\n",
            "Filename: RAW/Elephant_African_5/baea85f6c0f911ea82a50242ac1c0002.jpg\n",
            "Filename: RAW/Elephant_African_5/271b74ecc0fa11ea82a50242ac1c0002.jpg\n",
            "Filename: RAW/Elephant_African_5/dc56fab2c0f911ea82a50242ac1c0002.jpg\n",
            "Filename: RAW/Elephant_African_5/c137d86ec0f911ea82a50242ac1c0002.jpg\n",
            "Filename: RAW/Elephant_African_5/100fb3d0d3dd11ea91590242ac1c0002.jpg\n",
            "Filename: RAW/Elephant_African_5/2e3f1454c0fa11ea82a50242ac1c0002.jpg\n",
            "Filename: RAW/Elephant_African_5/d61e39f8c0f911ea82a50242ac1c0002.jpg\n",
            "Filename: RAW/Elephant_African_5/bf22b6d4c0f911ea82a50242ac1c0002.jpg\n",
            "Filename: RAW/Elephant_African_5/0934bd6cc0fa11ea82a50242ac1c0002.jpg\n",
            "Filename: RAW/Elephant_African_5/fcb5fd94c0f911ea82a50242ac1c0002.jpg\n",
            "Filename: RAW/Elephant_African_5/f44e32e8c0f911ea82a50242ac1c0002.jpg\n",
            "Filename: RAW/Elephant_African_5/b07e76c2c0f911ea82a50242ac1c0002.jpg\n",
            "Filename: RAW/Elephant_African_5/bd0dc848c0f911ea82a50242ac1c0002.jpg\n",
            "Filename: RAW/Elephant_African_5/03000910c0fa11ea82a50242ac1c0002.jpg\n",
            "Filename: RAW/Elephant_African_5/e0ab97bcc0f911ea82a50242ac1c0002.jpg\n",
            "Filename: RAW/Elephant_African_5/125dc528c0fa11ea82a50242ac1c0002.jpg\n",
            "Filename: RAW/Elephant_African_5/0d5ddce8c0fa11ea82a50242ac1c0002.jpg\n",
            "Filename: RAW/Elephant_African_5/ac4fb548c0f911ea82a50242ac1c0002.jpg\n",
            "Filename: RAW/Elephant_African_5/07234ebcc0fa11ea82a50242ac1c0002.jpg\n",
            "Filename: RAW/Elephant_African_5/ee0f7dcec0f911ea82a50242ac1c0002.jpg\n",
            "Filename: RAW/Elephant_African_5/cdc67d4cc0f911ea82a50242ac1c0002.jpg\n",
            "Filename: RAW/Elephant_African_5/f23b6656c0f911ea82a50242ac1c0002.jpg\n",
            "Filename: RAW/Elephant_African_5/0b4a9022c0fa11ea82a50242ac1c0002.jpg\n",
            "Filename: RAW/Elephant_African_5/14731098c0fa11ea82a50242ac1c0002.jpg\n",
            "Filename: RAW/Elephant_African_5/c34d976ac0f911ea82a50242ac1c0002.jpg\n",
            "Filename: RAW/Elephant_African_5/aa37334ec0f911ea82a50242ac1c0002.jpg\n",
            "Filename: RAW/Elephant_African_5/feced2aec0f911ea82a50242ac1c0002.jpg\n",
            "Filename: RAW/Elephant_African_5/f65ff35ac0f911ea82a50242ac1c0002.jpg\n",
            "Filename: RAW/Elephant_African_5/b4b10da4c0f911ea82a50242ac1c0002.jpg\n",
            "Filename: RAW/Elephant_African_5/d40d0234c0f911ea82a50242ac1c0002.jpg\n",
            "Filename: RAW/Elephant_African_5/e9e125d6c0f911ea82a50242ac1c0002.jpg\n",
            "Filename: RAW/Elephant_African_5/ae6658d2c0f911ea82a50242ac1c0002.jpg\n",
            "Filename: RAW/Elephant_African_5/d1efe2e6c0f911ea82a50242ac1c0002.jpg\n",
            "Filename: RAW/Elephant_African_5/d8317282c0f911ea82a50242ac1c0002.jpg\n",
            "Filename: RAW/Elephant_African_5/ebfb12dcc0f911ea82a50242ac1c0002.jpg\n",
            "Filename: RAW/Elephant_African_5/1aa9407cc0fa11ea82a50242ac1c0002.jpg\n",
            "Filename: RAW/Elephant_African_5/20ddd84ac0fa11ea82a50242ac1c0002.jpg\n",
            "Filename: RAW/Elephant_African_5/da43f324c0f911ea82a50242ac1c0002.jpg\n",
            "Filename: RAW/Elephant_African_5/c568815ec0f911ea82a50242ac1c0002.jpg\n",
            "Filename: RAW/Elephant_African_5/00e55ea0c0fa11ea82a50242ac1c0002.jpg\n",
            "Filename: RAW/Elephant_African_5/22f120ecc0fa11ea82a50242ac1c0002.jpg\n",
            "Filename: RAW/Elephant_African_5/cbb55a32c0f911ea82a50242ac1c0002.jpg\n"
          ]
        }
      ]
    },
    {
      "cell_type": "code",
      "source": [
        "import re\n",
        "\n",
        "footprint_matrix = []\n",
        "footprint_label = []\n",
        "footprint_brisque = []\n",
        "\n",
        "regex = 'RAW\\/\\w+_(\\d)\\/.*'\n",
        "\n",
        "for key, val in footprint.items():\n",
        "    features = np.append(val.flatten(), brisque(val))\n",
        "    footprint_matrix.append(features)\n",
        "    m = re.match(regex, key)\n",
        "    #label =  1 if int(m.group(1)) > 3 else 0\n",
        "    label =  int(m.group(1))\n",
        "    footprint_label.append(label )\n",
        " \n",
        "# Create footprint matrix as (n_samples,n_pixels) matrix\n",
        "footprint_matrix = np.array(footprint_matrix)\n",
        "footprint_label = np.array(footprint_label)\n",
        "footprint_brisque = np.array(footprint_brisque)\n",
        "print(footprint_matrix.shape)\n",
        "print(footprint_label.shape)"
      ],
      "metadata": {
        "colab": {
          "base_uri": "https://localhost:8080/"
        },
        "id": "toV_cnoxi8T5",
        "outputId": "e84a26cf-a222-4303-bc99-e14b91b58cef"
      },
      "execution_count": 22,
      "outputs": [
        {
          "output_type": "stream",
          "name": "stdout",
          "text": [
            "(91, 196644)\n",
            "(91,)\n"
          ]
        }
      ]
    },
    {
      "cell_type": "code",
      "source": [
        "from sklearn.manifold import TSNE\n",
        "from sklearn.decomposition import PCA\n",
        "from sklearn.preprocessing import Normalizer, StandardScaler"
      ],
      "metadata": {
        "id": "AJPRVq-3Nk8e"
      },
      "execution_count": 23,
      "outputs": []
    },
    {
      "cell_type": "code",
      "source": [
        "# PCA\n",
        "footprint_matrix_std = StandardScaler().fit_transform(footprint_matrix) \n",
        "footprint_pca = PCA().fit(footprint_matrix_std)\n",
        "\n"
      ],
      "metadata": {
        "id": "NMw4b684kgvx"
      },
      "execution_count": 24,
      "outputs": []
    },
    {
      "cell_type": "code",
      "source": [
        "# TSNE\n",
        "tsne = TSNE(n_components=2, perplexity=5, n_iter=5000)\n",
        "tsne_results = tsne.fit_transform(footprint_matrix_std)"
      ],
      "metadata": {
        "colab": {
          "base_uri": "https://localhost:8080/"
        },
        "id": "HTHkFAzfxjJO",
        "outputId": "06cb4448-880c-44f6-efcb-eee861216bf2"
      },
      "execution_count": 25,
      "outputs": [
        {
          "output_type": "stream",
          "name": "stderr",
          "text": [
            "/usr/local/lib/python3.7/dist-packages/sklearn/manifold/_t_sne.py:783: FutureWarning: The default initialization in TSNE will change from 'random' to 'pca' in 1.2.\n",
            "  FutureWarning,\n",
            "/usr/local/lib/python3.7/dist-packages/sklearn/manifold/_t_sne.py:793: FutureWarning: The default learning rate in TSNE will change from 200.0 to 'auto' in 1.2.\n",
            "  FutureWarning,\n"
          ]
        }
      ]
    },
    {
      "cell_type": "code",
      "source": [
        "from matplotlib import pyplot as plt\n",
        "\n",
        "# eliminated last row due to outlier\n",
        "\n",
        "plt.figure(figsize = (20,11))\n",
        "plt.subplot(121)\n",
        "plt.scatter(footprint_pca.components_[:-1,0], footprint_pca.components_[:-1,1], c = footprint_label[:-1], edgecolor = \"None\")\n",
        "plt.colorbar()\n",
        "plt.title('PCA Scatter Plot')\n",
        "plt.subplot(122)\n",
        "plt.scatter(tsne_results[:,0],tsne_results[:,1],  c = footprint_label,  edgecolor = \"None\")\n",
        "plt.colorbar()\n",
        "plt.title('TSNE Scatter Plot')\n",
        "plt.show()"
      ],
      "metadata": {
        "colab": {
          "base_uri": "https://localhost:8080/",
          "height": 662
        },
        "id": "ThSCxk8PHutE",
        "outputId": "816fb1bb-bf6f-4634-b906-afd31d182658"
      },
      "execution_count": 39,
      "outputs": [
        {
          "output_type": "display_data",
          "data": {
            "text/plain": [
              "<Figure size 1440x792 with 4 Axes>"
            ],
            "image/png": "[encoded data removed]"
          },
          "metadata": {
            "needs_background": "light"
          }
        }
      ]
    },
    {
      "cell_type": "markdown",
      "source": [
        "As seen above the data does not clearly separate amongst the different categories either in the case of PCA or TSNE clustering.  There is in TSNE some sort of order in the case of elephants,however this is not clearly seen when evaluating other species. \n",
        "\n",
        "This emphasizes that the features that we have may not be sufficient or that the scoring is inconsistent and doesn't follow a particular standard.\n",
        "\n"
      ],
      "metadata": {
        "id": "A6wwuPc182YT"
      }
    }
  ]
}